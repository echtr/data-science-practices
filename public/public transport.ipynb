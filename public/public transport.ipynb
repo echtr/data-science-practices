{
 "cells": [
  {
   "cell_type": "code",
   "execution_count": 1,
   "id": "aaa1012a",
   "metadata": {},
   "outputs": [],
   "source": [
    "# github.com/echtr"
   ]
  },
  {
   "cell_type": "code",
   "execution_count": 2,
   "id": "3092fc37",
   "metadata": {},
   "outputs": [],
   "source": [
    "import pandas as pd\n",
    "import numpy as np\n",
    "import matplotlib.pyplot as plt"
   ]
  },
  {
   "cell_type": "code",
   "execution_count": 3,
   "id": "8c2dbaca",
   "metadata": {},
   "outputs": [
    {
     "data": {
      "text/html": [
       "<div>\n",
       "<style scoped>\n",
       "    .dataframe tbody tr th:only-of-type {\n",
       "        vertical-align: middle;\n",
       "    }\n",
       "\n",
       "    .dataframe tbody tr th {\n",
       "        vertical-align: top;\n",
       "    }\n",
       "\n",
       "    .dataframe thead th {\n",
       "        text-align: right;\n",
       "    }\n",
       "</style>\n",
       "<table border=\"1\" class=\"dataframe\">\n",
       "  <thead>\n",
       "    <tr style=\"text-align: right;\">\n",
       "      <th></th>\n",
       "      <th>year</th>\n",
       "      <th>type_of_public_transport</th>\n",
       "      <th>average_ridership</th>\n",
       "    </tr>\n",
       "  </thead>\n",
       "  <tbody>\n",
       "    <tr>\n",
       "      <th>0</th>\n",
       "      <td>1995</td>\n",
       "      <td>MRT</td>\n",
       "      <td>740000</td>\n",
       "    </tr>\n",
       "    <tr>\n",
       "      <th>1</th>\n",
       "      <td>1995</td>\n",
       "      <td>LRT</td>\n",
       "      <td>0</td>\n",
       "    </tr>\n",
       "    <tr>\n",
       "      <th>2</th>\n",
       "      <td>1995</td>\n",
       "      <td>Bus</td>\n",
       "      <td>3009000</td>\n",
       "    </tr>\n",
       "    <tr>\n",
       "      <th>3</th>\n",
       "      <td>1995</td>\n",
       "      <td>Taxi</td>\n",
       "      <td>0</td>\n",
       "    </tr>\n",
       "    <tr>\n",
       "      <th>4</th>\n",
       "      <td>1996</td>\n",
       "      <td>MRT</td>\n",
       "      <td>850000</td>\n",
       "    </tr>\n",
       "    <tr>\n",
       "      <th>...</th>\n",
       "      <td>...</td>\n",
       "      <td>...</td>\n",
       "      <td>...</td>\n",
       "    </tr>\n",
       "    <tr>\n",
       "      <th>83</th>\n",
       "      <td>2015</td>\n",
       "      <td>Taxi</td>\n",
       "      <td>1010000</td>\n",
       "    </tr>\n",
       "    <tr>\n",
       "      <th>84</th>\n",
       "      <td>2016</td>\n",
       "      <td>MRT</td>\n",
       "      <td>3095000</td>\n",
       "    </tr>\n",
       "    <tr>\n",
       "      <th>85</th>\n",
       "      <td>2016</td>\n",
       "      <td>LRT</td>\n",
       "      <td>180000</td>\n",
       "    </tr>\n",
       "    <tr>\n",
       "      <th>86</th>\n",
       "      <td>2016</td>\n",
       "      <td>Bus</td>\n",
       "      <td>3939000</td>\n",
       "    </tr>\n",
       "    <tr>\n",
       "      <th>87</th>\n",
       "      <td>2016</td>\n",
       "      <td>Taxi</td>\n",
       "      <td>954000</td>\n",
       "    </tr>\n",
       "  </tbody>\n",
       "</table>\n",
       "<p>88 rows × 3 columns</p>\n",
       "</div>"
      ],
      "text/plain": [
       "    year type_of_public_transport  average_ridership\n",
       "0   1995                      MRT             740000\n",
       "1   1995                      LRT                  0\n",
       "2   1995                      Bus            3009000\n",
       "3   1995                     Taxi                  0\n",
       "4   1996                      MRT             850000\n",
       "..   ...                      ...                ...\n",
       "83  2015                     Taxi            1010000\n",
       "84  2016                      MRT            3095000\n",
       "85  2016                      LRT             180000\n",
       "86  2016                      Bus            3939000\n",
       "87  2016                     Taxi             954000\n",
       "\n",
       "[88 rows x 3 columns]"
      ]
     },
     "execution_count": 3,
     "metadata": {},
     "output_type": "execute_result"
    }
   ],
   "source": [
    "df = pd.read_csv(\"public transport.csv\")"
   ]
  },
  {
   "cell_type": "code",
   "execution_count": 11,
   "id": "195c1311",
   "metadata": {},
   "outputs": [
    {
     "data": {
      "text/plain": [
       "(year                         int64\n",
       " type_of_public_transport    object\n",
       " average_ridership            int64\n",
       " dtype: object,\n",
       " (88, 3),\n",
       " year                        0\n",
       " type_of_public_transport    0\n",
       " average_ridership           0\n",
       " dtype: int64)"
      ]
     },
     "execution_count": 11,
     "metadata": {},
     "output_type": "execute_result"
    }
   ],
   "source": [
    "df.dtypes, df.shape, df.isnull().sum()"
   ]
  },
  {
   "cell_type": "code",
   "execution_count": 17,
   "id": "4d7040c5",
   "metadata": {},
   "outputs": [
    {
     "data": {
      "text/plain": [
       "MRT     22\n",
       "LRT     22\n",
       "Bus     22\n",
       "Taxi    22\n",
       "Name: type_of_public_transport, dtype: int64"
      ]
     },
     "execution_count": 17,
     "metadata": {},
     "output_type": "execute_result"
    }
   ],
   "source": [
    "df[\"type_of_public_transport\"].value_counts()"
   ]
  },
  {
   "cell_type": "code",
   "execution_count": 18,
   "id": "f7b30446",
   "metadata": {},
   "outputs": [
    {
     "data": {
      "text/plain": [
       "1995    4\n",
       "1996    4\n",
       "2015    4\n",
       "2014    4\n",
       "2013    4\n",
       "2012    4\n",
       "2011    4\n",
       "2010    4\n",
       "2009    4\n",
       "2008    4\n",
       "2007    4\n",
       "2006    4\n",
       "2005    4\n",
       "2004    4\n",
       "2003    4\n",
       "2002    4\n",
       "2001    4\n",
       "2000    4\n",
       "1999    4\n",
       "1998    4\n",
       "1997    4\n",
       "2016    4\n",
       "Name: year, dtype: int64"
      ]
     },
     "execution_count": 18,
     "metadata": {},
     "output_type": "execute_result"
    }
   ],
   "source": [
    "df[\"year\"].value_counts()"
   ]
  },
  {
   "cell_type": "code",
   "execution_count": 19,
   "id": "47df1a73",
   "metadata": {},
   "outputs": [],
   "source": [
    "# sanırım her yıl için 4 tane toplu taşıma girilmiş."
   ]
  },
  {
   "cell_type": "code",
   "execution_count": 63,
   "id": "e6286c52",
   "metadata": {},
   "outputs": [],
   "source": [
    "year = df[\"year\"].drop_duplicates().to_numpy()\n",
    "mrt = df[df[\"type_of_public_transport\"] == \"MRT\"][\"average_ridership\"].to_numpy()\n",
    "lrt = df[df[\"type_of_public_transport\"] == \"LRT\"][\"average_ridership\"].to_numpy()\n",
    "bus = df[df[\"type_of_public_transport\"] == \"Bus\"][\"average_ridership\"].to_numpy()\n",
    "taxi = df[df[\"type_of_public_transport\"] == \"Taxi\"][\"average_ridership\"].to_numpy()"
   ]
  },
  {
   "cell_type": "code",
   "execution_count": 82,
   "id": "2b8a39f0",
   "metadata": {},
   "outputs": [
    {
     "data": {
      "image/png": "[encoded data removed]",
      "text/plain": [
       "<Figure size 864x432 with 1 Axes>"
      ]
     },
     "metadata": {
      "needs_background": "light"
     },
     "output_type": "display_data"
    }
   ],
   "source": [
    "plt.figure(figsize=(12,6))\n",
    "plt.plot(year, mrt, color=\"blue\")\n",
    "plt.plot(year, lrt, color=\"green\")\n",
    "plt.plot(year, bus, color=\"red\")\n",
    "plt.plot(year, taxi, color=\"yellow\")\n",
    "\n",
    "plt.xlabel(\"Years\")\n",
    "plt.ylabel(\"Ridership\")\n",
    "\n",
    "plt.legend([\"MRT\",\"LRT\",\"BUS\",\"TAXI\"])\n",
    "\n",
    "plt.show()"
   ]
  },
  {
   "cell_type": "code",
   "execution_count": 46,
   "id": "52dd89c6",
   "metadata": {},
   "outputs": [
    {
     "data": {
      "text/plain": [
       "array([1995, 1995, 1995, 1995, 1996, 1996, 1996, 1996, 1997, 1997, 1997,\n",
       "       1997, 1998, 1998, 1998, 1998, 1999, 1999, 1999, 1999, 2000, 2000,\n",
       "       2000, 2000, 2001, 2001, 2001, 2001, 2002, 2002, 2002, 2002, 2003,\n",
       "       2003, 2003, 2003, 2004, 2004, 2004, 2004, 2005, 2005, 2005, 2005,\n",
       "       2006, 2006, 2006, 2006, 2007, 2007, 2007, 2007, 2008, 2008, 2008,\n",
       "       2008, 2009, 2009, 2009, 2009, 2010, 2010, 2010, 2010, 2011, 2011,\n",
       "       2011, 2011, 2012, 2012, 2012, 2012, 2013, 2013, 2013, 2013, 2014,\n",
       "       2014, 2014, 2014, 2015, 2015, 2015, 2015, 2016, 2016, 2016, 2016],\n",
       "      dtype=int64)"
      ]
     },
     "execution_count": 46,
     "metadata": {},
     "output_type": "execute_result"
    }
   ],
   "source": [
    "year"
   ]
  },
  {
   "cell_type": "code",
   "execution_count": 55,
   "id": "ef3a58cf",
   "metadata": {},
   "outputs": [
    {
     "data": {
      "text/plain": [
       "0"
      ]
     },
     "execution_count": 55,
     "metadata": {},
     "output_type": "execute_result"
    }
   ],
   "source": [
    "len(bus)"
   ]
  },
  {
   "cell_type": "code",
   "execution_count": null,
   "id": "d514bc5f",
   "metadata": {},
   "outputs": [],
   "source": []
  }
 ],
 "metadata": {
  "kernelspec": {
   "display_name": "Python 3 (ipykernel)",
   "language": "python",
   "name": "python3"
  },
  "language_info": {
   "codemirror_mode": {
    "name": "ipython",
    "version": 3
   },
   "file_extension": ".py",
   "mimetype": "text/x-python",
   "name": "python",
   "nbconvert_exporter": "python",
   "pygments_lexer": "ipython3",
   "version": "3.9.4"
  }
 },
 "nbformat": 4,
 "nbformat_minor": 5
}
